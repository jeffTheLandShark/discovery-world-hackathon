{
 "cells": [
  {
   "cell_type": "code",
   "execution_count": 1,
   "metadata": {},
   "outputs": [],
   "source": [
    "import pandas as pd\n",
    "from openai import OpenAI"
   ]
  },
  {
   "cell_type": "code",
   "execution_count": 2,
   "metadata": {},
   "outputs": [
    {
     "data": {
      "text/html": [
       "<div>\n",
       "<style scoped>\n",
       "    .dataframe tbody tr th:only-of-type {\n",
       "        vertical-align: middle;\n",
       "    }\n",
       "\n",
       "    .dataframe tbody tr th {\n",
       "        vertical-align: top;\n",
       "    }\n",
       "\n",
       "    .dataframe thead th {\n",
       "        text-align: right;\n",
       "    }\n",
       "</style>\n",
       "<table border=\"1\" class=\"dataframe\">\n",
       "  <thead>\n",
       "    <tr style=\"text-align: right;\">\n",
       "      <th></th>\n",
       "      <th>Exhibit Group</th>\n",
       "      <th>Exhibit Name</th>\n",
       "      <th>Exhibit Popularity</th>\n",
       "      <th>Exhibit Copy</th>\n",
       "    </tr>\n",
       "  </thead>\n",
       "  <tbody>\n",
       "    <tr>\n",
       "      <th>0</th>\n",
       "      <td>All-Aboard</td>\n",
       "      <td>All-Aboard</td>\n",
       "      <td>1</td>\n",
       "      <td>All Aboard!\\r\\nTrains and railways have been a...</td>\n",
       "    </tr>\n",
       "    <tr>\n",
       "      <th>1</th>\n",
       "      <td>Automation Everywhere</td>\n",
       "      <td>A.I. Table Tennis</td>\n",
       "      <td>5</td>\n",
       "      <td>A.I. Table Tennis\\r\\nStep up and help Discover...</td>\n",
       "    </tr>\n",
       "    <tr>\n",
       "      <th>2</th>\n",
       "      <td>Automation Everywhere</td>\n",
       "      <td>Ball Park Roof</td>\n",
       "      <td>5</td>\n",
       "      <td>Ball Park Roof\\r\\nThe fan-shaped roof includes...</td>\n",
       "    </tr>\n",
       "    <tr>\n",
       "      <th>3</th>\n",
       "      <td>Automation Everywhere</td>\n",
       "      <td>Calatrava</td>\n",
       "      <td>4</td>\n",
       "      <td>IGNORE</td>\n",
       "    </tr>\n",
       "    <tr>\n",
       "      <th>4</th>\n",
       "      <td>Automation Everywhere</td>\n",
       "      <td>Compression Rheostat</td>\n",
       "      <td>5</td>\n",
       "      <td>Compression Rheostat\\r\\nTighten the handle to ...</td>\n",
       "    </tr>\n",
       "  </tbody>\n",
       "</table>\n",
       "</div>"
      ],
      "text/plain": [
       "           Exhibit Group          Exhibit Name Exhibit Popularity  \\\n",
       "0             All-Aboard            All-Aboard                  1   \n",
       "1  Automation Everywhere     A.I. Table Tennis                  5   \n",
       "2  Automation Everywhere        Ball Park Roof                  5   \n",
       "3  Automation Everywhere             Calatrava                  4   \n",
       "4  Automation Everywhere  Compression Rheostat                  5   \n",
       "\n",
       "                                        Exhibit Copy  \n",
       "0  All Aboard!\\r\\nTrains and railways have been a...  \n",
       "1  A.I. Table Tennis\\r\\nStep up and help Discover...  \n",
       "2  Ball Park Roof\\r\\nThe fan-shaped roof includes...  \n",
       "3                                             IGNORE  \n",
       "4  Compression Rheostat\\r\\nTighten the handle to ...  "
      ]
     },
     "execution_count": 2,
     "metadata": {},
     "output_type": "execute_result"
    }
   ],
   "source": [
    "df = pd.read_csv('DW-MasterSheetCopies.csv')\n",
    "df.head()"
   ]
  },
  {
   "cell_type": "code",
   "execution_count": 3,
   "metadata": {},
   "outputs": [
    {
     "data": {
      "text/plain": [
       "Index(['Exhibit_Group', 'Exhibit_Name', 'Exhibit_Popularity', 'Exhibit_Copy'], dtype='object')"
      ]
     },
     "execution_count": 3,
     "metadata": {},
     "output_type": "execute_result"
    }
   ],
   "source": [
    "df.columns = [x.replace(\" \", \"_\") for x in df.columns]\n",
    "df.columns"
   ]
  },
  {
   "cell_type": "code",
   "execution_count": 4,
   "metadata": {},
   "outputs": [
    {
     "name": "stdout",
     "output_type": "stream",
     "text": [
      "<class 'pandas.core.frame.DataFrame'>\n",
      "RangeIndex: 85 entries, 0 to 84\n",
      "Data columns (total 4 columns):\n",
      " #   Column              Non-Null Count  Dtype \n",
      "---  ------              --------------  ----- \n",
      " 0   Exhibit_Group       85 non-null     object\n",
      " 1   Exhibit_Name        85 non-null     object\n",
      " 2   Exhibit_Popularity  85 non-null     int64 \n",
      " 3   Exhibit_Copy        85 non-null     object\n",
      "dtypes: int64(1), object(3)\n",
      "memory usage: 2.8+ KB\n"
     ]
    }
   ],
   "source": [
    "# turn Exhibit_Popularity into an int\n",
    "df['Exhibit_Popularity'] = df['Exhibit_Popularity'].replace('-', 6)\n",
    "df['Exhibit_Popularity'] = df['Exhibit_Popularity'].astype(int)\n",
    "df.info()"
   ]
  },
  {
   "cell_type": "code",
   "execution_count": 5,
   "metadata": {},
   "outputs": [
    {
     "data": {
      "text/html": [
       "<div>\n",
       "<style scoped>\n",
       "    .dataframe tbody tr th:only-of-type {\n",
       "        vertical-align: middle;\n",
       "    }\n",
       "\n",
       "    .dataframe tbody tr th {\n",
       "        vertical-align: top;\n",
       "    }\n",
       "\n",
       "    .dataframe thead th {\n",
       "        text-align: right;\n",
       "    }\n",
       "</style>\n",
       "<table border=\"1\" class=\"dataframe\">\n",
       "  <thead>\n",
       "    <tr style=\"text-align: right;\">\n",
       "      <th></th>\n",
       "      <th>Exhibit_Popularity</th>\n",
       "    </tr>\n",
       "  </thead>\n",
       "  <tbody>\n",
       "    <tr>\n",
       "      <th>count</th>\n",
       "      <td>85.000000</td>\n",
       "    </tr>\n",
       "    <tr>\n",
       "      <th>mean</th>\n",
       "      <td>3.141176</td>\n",
       "    </tr>\n",
       "    <tr>\n",
       "      <th>std</th>\n",
       "      <td>1.746786</td>\n",
       "    </tr>\n",
       "    <tr>\n",
       "      <th>min</th>\n",
       "      <td>0.000000</td>\n",
       "    </tr>\n",
       "    <tr>\n",
       "      <th>25%</th>\n",
       "      <td>2.000000</td>\n",
       "    </tr>\n",
       "    <tr>\n",
       "      <th>50%</th>\n",
       "      <td>3.000000</td>\n",
       "    </tr>\n",
       "    <tr>\n",
       "      <th>75%</th>\n",
       "      <td>5.000000</td>\n",
       "    </tr>\n",
       "    <tr>\n",
       "      <th>max</th>\n",
       "      <td>6.000000</td>\n",
       "    </tr>\n",
       "  </tbody>\n",
       "</table>\n",
       "</div>"
      ],
      "text/plain": [
       "       Exhibit_Popularity\n",
       "count           85.000000\n",
       "mean             3.141176\n",
       "std              1.746786\n",
       "min              0.000000\n",
       "25%              2.000000\n",
       "50%              3.000000\n",
       "75%              5.000000\n",
       "max              6.000000"
      ]
     },
     "execution_count": 5,
     "metadata": {},
     "output_type": "execute_result"
    }
   ],
   "source": [
    "# give stats on the data\n",
    "df.describe()"
   ]
  },
  {
   "cell_type": "code",
   "execution_count": 6,
   "metadata": {},
   "outputs": [
    {
     "data": {
      "text/plain": [
       "Exhibit_Popularity\n",
       "5    23\n",
       "2    16\n",
       "4    15\n",
       "3    11\n",
       "1     9\n",
       "0     8\n",
       "6     3\n",
       "Name: count, dtype: int64"
      ]
     },
     "execution_count": 6,
     "metadata": {},
     "output_type": "execute_result"
    }
   ],
   "source": [
    "# show spread of exhibit_popularity\n",
    "df['Exhibit_Popularity'].value_counts()"
   ]
  },
  {
   "cell_type": "code",
   "execution_count": null,
   "metadata": {},
   "outputs": [],
   "source": [
    "# drop rows with popularity of 0\n",
    "df = df[df['Exhibit_Popularity'] != 0]\n",
    "# drop rows with popularity higher than 3\n",
    "df = df[df['Exhibit_Popularity'] <= 3]\n",
    "# drop rows with Exhibit_Copy = \"IGNORE\"\n",
    "df = df[df['Exhibit_Copy'] != \"IGNORE\"]"
   ]
  },
  {
   "cell_type": "code",
   "execution_count": 13,
   "metadata": {},
   "outputs": [
    {
     "data": {
      "text/plain": [
       "Exhibit_Popularity\n",
       "2    15\n",
       "3    10\n",
       "1     6\n",
       "Name: count, dtype: int64"
      ]
     },
     "execution_count": 13,
     "metadata": {},
     "output_type": "execute_result"
    }
   ],
   "source": [
    "df['Exhibit_Popularity'].value_counts()"
   ]
  },
  {
   "cell_type": "code",
   "execution_count": 16,
   "metadata": {},
   "outputs": [
    {
     "data": {
      "text/html": [
       "<div>\n",
       "<style scoped>\n",
       "    .dataframe tbody tr th:only-of-type {\n",
       "        vertical-align: middle;\n",
       "    }\n",
       "\n",
       "    .dataframe tbody tr th {\n",
       "        vertical-align: top;\n",
       "    }\n",
       "\n",
       "    .dataframe thead th {\n",
       "        text-align: right;\n",
       "    }\n",
       "</style>\n",
       "<table border=\"1\" class=\"dataframe\">\n",
       "  <thead>\n",
       "    <tr style=\"text-align: right;\">\n",
       "      <th></th>\n",
       "      <th>Exhibit_Group</th>\n",
       "      <th>Exhibit_Name</th>\n",
       "      <th>Exhibit_Popularity</th>\n",
       "      <th>Exhibit_Copy</th>\n",
       "    </tr>\n",
       "  </thead>\n",
       "  <tbody>\n",
       "    <tr>\n",
       "      <th>0</th>\n",
       "      <td>All-Aboard</td>\n",
       "      <td>All-Aboard</td>\n",
       "      <td>1</td>\n",
       "      <td>All Aboard!\\nTrains and railways have been a '...</td>\n",
       "    </tr>\n",
       "    <tr>\n",
       "      <th>5</th>\n",
       "      <td>Automation Everywhere</td>\n",
       "      <td>Connect Four</td>\n",
       "      <td>3</td>\n",
       "      <td>Fanuc Robot-M-11a\\nGary is a sorting robot bui...</td>\n",
       "    </tr>\n",
       "    <tr>\n",
       "      <th>6</th>\n",
       "      <td>Automation Everywhere</td>\n",
       "      <td>Dream Machine</td>\n",
       "      <td>1</td>\n",
       "      <td>Sensor\\n1. 42KD Miniature Photoelectric Sensor...</td>\n",
       "    </tr>\n",
       "    <tr>\n",
       "      <th>7</th>\n",
       "      <td>Automation Everywhere</td>\n",
       "      <td>Dream Machine: Control Cabinet</td>\n",
       "      <td>3</td>\n",
       "      <td>Control Cabinet\\nThis cabinet houses the elect...</td>\n",
       "    </tr>\n",
       "    <tr>\n",
       "      <th>10</th>\n",
       "      <td>Automation Everywhere</td>\n",
       "      <td>Sensor Challenge</td>\n",
       "      <td>2</td>\n",
       "      <td>Can You Beat The Machine?\\nTake the Sensor Cha...</td>\n",
       "    </tr>\n",
       "  </tbody>\n",
       "</table>\n",
       "</div>"
      ],
      "text/plain": [
       "            Exhibit_Group                    Exhibit_Name  Exhibit_Popularity  \\\n",
       "0              All-Aboard                      All-Aboard                   1   \n",
       "5   Automation Everywhere                    Connect Four                   3   \n",
       "6   Automation Everywhere                   Dream Machine                   1   \n",
       "7   Automation Everywhere  Dream Machine: Control Cabinet                   3   \n",
       "10  Automation Everywhere                Sensor Challenge                   2   \n",
       "\n",
       "                                         Exhibit_Copy  \n",
       "0   All Aboard!\\nTrains and railways have been a '...  \n",
       "5   Fanuc Robot-M-11a\\nGary is a sorting robot bui...  \n",
       "6   Sensor\\n1. 42KD Miniature Photoelectric Sensor...  \n",
       "7   Control Cabinet\\nThis cabinet houses the elect...  \n",
       "10  Can You Beat The Machine?\\nTake the Sensor Cha...  "
      ]
     },
     "execution_count": 16,
     "metadata": {},
     "output_type": "execute_result"
    }
   ],
   "source": [
    "# swap \"\\r\\n\" for \"\\n\" in Exhibit_Copy\n",
    "df['Exhibit_Copy'] = df['Exhibit_Copy'].str.replace(\"\\r\\n\", \"\\n\")\n",
    "df.head()"
   ]
  },
  {
   "cell_type": "code",
   "execution_count": 19,
   "metadata": {},
   "outputs": [
    {
     "data": {
      "text/plain": [
       "<Axes: xlabel='Exhibit_Group'>"
      ]
     },
     "execution_count": 19,
     "metadata": {},
     "output_type": "execute_result"
    },
    {
     "data": {
      "image/png": "[encoded data removed]",
      "text/plain": [
       "<Figure size 640x480 with 1 Axes>"
      ]
     },
     "metadata": {},
     "output_type": "display_data"
    }
   ],
   "source": [
    "# graph value counts of Exhibit_Popularity by Exhibit_Group\n",
    "df.groupby('Exhibit_Group')['Exhibit_Popularity'].value_counts().unstack().plot(kind='bar', stacked=True)"
   ]
  },
  {
   "cell_type": "markdown",
   "metadata": {},
   "source": [
    "1. Append \"Language\" col (pad with \"English\")\n",
    "2. Preprocess all of the \"Exhibit_Copy\" info into [\"Simplified\", \"Standard\", \"Technical\"]\n",
    "4. For each entry, translate \"Exhibit_Copy\" info into [\"Spanish\", \"Hmong\"] and change the \"Language\"\n",
    "5. Save this as base_translation.csv\n",
    "6. For each technical entry, create a Standard entry\n",
    "7. For each standard entry, create a Simplified Entry\n",
    "8. For each English entry without a Spanish or Hmong entry, create a "
   ]
  },
  {
   "cell_type": "code",
   "execution_count": null,
   "metadata": {},
   "outputs": [],
   "source": [
    "df[\"Language\"] = \"English\""
   ]
  },
  {
   "cell_type": "code",
   "execution_count": null,
   "metadata": {},
   "outputs": [],
   "source": [
    "MODEL_API_URL = \"http://dh-dgxh100-2.hpc.msoe.edu:8000/v1\"\n",
    "\n",
    "# Initialize the OpenAI client with the model's base URL\n",
    "client = OpenAI(\n",
    "    base_url=MODEL_API_URL,\n",
    "    api_key=\"not_used\"\n",
    ")"
   ]
  },
  {
   "cell_type": "code",
   "execution_count": null,
   "metadata": {},
   "outputs": [],
   "source": [
    "from openai import OpenAI\n",
    "\n",
    "client = OpenAI(\n",
    "    base_url = \"http://dh-dgxh100-2.hpc.msoe.edu:8000/v1\",\n",
    "    api_key = \"not_used\"\n",
    ")"
   ]
  },
  {
   "cell_type": "code",
   "execution_count": null,
   "metadata": {},
   "outputs": [],
   "source": [
    "def classify_exhibit_copy(group, title, body):\n",
    "    completion = client.chat.completions.create(\n",
    "        model=\"meta/llama-3.1-70b-instruct\",\n",
    "        messages=[\n",
    "            { \"role\": \"system\", \"content\": \"You are a helpful and informative AI assistant, capable of understanding complex questions and providing comprehensive, well-reasoned responses based on your knowledge. Always strive to be factual and objective in your answers.\" },\n",
    "            {\n",
    "                \"role\": \"user\",\n",
    "                \"content\": f\"\"\"Classify the following exhibit information into one of the categories: Simplified, Standard, Technical:\n",
    "                Exhibit Info:\n",
    "                Exhibit Group: {group}\n",
    "                Exhibit Title: {title}\n",
    "                Exhibit Body: {body}\n",
    "                \"\"\",\n",
    "            },\n",
    "        ],\n",
    "        max_tokens=48,\n",
    "        stream=False\n",
    "    )\n",
    "    return completion.choices[0].message.content"
   ]
  },
  {
   "cell_type": "code",
   "execution_count": null,
   "metadata": {},
   "outputs": [],
   "source": [
    "# classify the exhibit copy\n",
    "df['Exhibit_Copy_Classification'] = df.apply(lambda x: classify_exhibit_copy(x['Exhibit_Group'], x['Exhibit_Title'], x['Exhibit_Copy']), axis=1)"
   ]
  }
 ],
 "metadata": {
  "kernelspec": {
   "display_name": "Python 3",
   "language": "python",
   "name": "python3"
  },
  "language_info": {
   "codemirror_mode": {
    "name": "ipython",
    "version": 3
   },
   "file_extension": ".py",
   "mimetype": "text/x-python",
   "name": "python",
   "nbconvert_exporter": "python",
   "pygments_lexer": "ipython3",
   "version": "3.11.9"
  }
 },
 "nbformat": 4,
 "nbformat_minor": 2
}
