{
 "cells": [
  {
   "cell_type": "code",
   "execution_count": 1,
   "metadata": {},
   "outputs": [
    {
     "data": {
      "text/plain": [
       "True"
      ]
     },
     "execution_count": 1,
     "metadata": {},
     "output_type": "execute_result"
    }
   ],
   "source": [
    "import pandas as pd\n",
    "# from openai import OpenAI\n",
    "from textwrap import dedent\n",
    "from dotenv import load_dotenv\n",
    "from google.cloud import translate\n",
    "# load environment variables\n",
    "load_dotenv()"
   ]
  },
  {
   "cell_type": "markdown",
   "metadata": {},
   "source": [
    "### Complexities"
   ]
  },
  {
   "cell_type": "code",
   "execution_count": null,
   "metadata": {},
   "outputs": [],
   "source": [
    "df = pd.read_csv('DW-MasterSheetCopies.csv')\n",
    "df.head()"
   ]
  },
  {
   "cell_type": "code",
   "execution_count": null,
   "metadata": {},
   "outputs": [],
   "source": [
    "df.columns = [x.replace(\" \", \"_\") for x in df.columns]\n",
    "df.columns"
   ]
  },
  {
   "cell_type": "code",
   "execution_count": null,
   "metadata": {},
   "outputs": [],
   "source": [
    "# turn Exhibit_Popularity into an int\n",
    "df['Exhibit_Popularity'] = df['Exhibit_Popularity'].replace('-', 6)\n",
    "df['Exhibit_Popularity'] = df['Exhibit_Popularity'].astype(int)\n",
    "df.info()"
   ]
  },
  {
   "cell_type": "code",
   "execution_count": null,
   "metadata": {},
   "outputs": [],
   "source": [
    "# give stats on the data\n",
    "df.describe()"
   ]
  },
  {
   "cell_type": "code",
   "execution_count": null,
   "metadata": {},
   "outputs": [],
   "source": [
    "# show spread of exhibit_popularity\n",
    "df['Exhibit_Popularity'].value_counts()"
   ]
  },
  {
   "cell_type": "code",
   "execution_count": null,
   "metadata": {},
   "outputs": [],
   "source": [
    "# drop rows with popularity of 0\n",
    "df = df[df['Exhibit_Popularity'] != 0]\n",
    "# drop rows with popularity higher than 3\n",
    "df = df[df['Exhibit_Popularity'] <= 3]\n",
    "# drop rows with Exhibit_Copy = \"IGNORE\"\n",
    "df = df[df['Exhibit_Copy'] != \"IGNORE\"]"
   ]
  },
  {
   "cell_type": "code",
   "execution_count": null,
   "metadata": {},
   "outputs": [],
   "source": [
    "df['Exhibit_Popularity'].value_counts()"
   ]
  },
  {
   "cell_type": "code",
   "execution_count": null,
   "metadata": {},
   "outputs": [],
   "source": [
    "# swap \"\\r\\n\" for \"\\n\" in Exhibit_Copy\n",
    "df['Exhibit_Copy'] = df['Exhibit_Copy'].str.replace(\"\\r\\n\", \"\\n\")\n",
    "df.head()"
   ]
  },
  {
   "cell_type": "code",
   "execution_count": null,
   "metadata": {},
   "outputs": [],
   "source": [
    "# graph value counts of Exhibit_Popularity by Exhibit_Group\n",
    "df.groupby('Exhibit_Group')['Exhibit_Popularity'].value_counts().unstack().plot(kind='bar', stacked=True)"
   ]
  },
  {
   "cell_type": "markdown",
   "metadata": {},
   "source": [
    "1. Append \"Language\" col (pad with \"English\")\n",
    "2. Preprocess all of the \"Exhibit_Copy\" info into [\"Simplified\", \"Standard\", \"Technical\"]\n",
    "4. For each entry, translate \"Exhibit_Copy\" info into [\"Spanish\", \"Hmong\"] and change the \"Language\"\n",
    "5. Save this as base_translation.csv\n",
    "6. For each technical entry, create a Standard entry\n",
    "7. For each standard entry, create a Simplified Entry\n",
    "8. For each English entry without a Spanish or Hmong entry, create a "
   ]
  },
  {
   "cell_type": "code",
   "execution_count": null,
   "metadata": {},
   "outputs": [],
   "source": [
    "df[\"Language\"] = \"English\""
   ]
  },
  {
   "cell_type": "code",
   "execution_count": null,
   "metadata": {},
   "outputs": [],
   "source": [
    "client = OpenAI(\n",
    "    base_url = \"http://dh-dgxh100-2.hpc.msoe.edu:8000/v1\",\n",
    "    api_key = \"not_used\"\n",
    ")"
   ]
  },
  {
   "cell_type": "code",
   "execution_count": null,
   "metadata": {},
   "outputs": [],
   "source": [
    "def classify_exhibit_copy(group, title, body):\n",
    "    completion = client.chat.completions.create(\n",
    "        model=\"meta/llama-3.1-70b-instruct\",\n",
    "        messages=[\n",
    "            { \"role\": \"system\", \"content\": \"You are a helpful and informative AI assistant, tasked with classifying passages into categories. You are capable of understanding complex questions. You respond in one word answers, those being the categories given.\" },\n",
    "            {\n",
    "                \"role\": \"user\",\n",
    "                \"content\": dedent(f\"\"\"Classify the following exhibit information into one of the categories: Simplified, Standard, Technical:\n",
    "                Definitions:\n",
    "                - Simplified: Easily accessible to children up though middle school\n",
    "                - Standard: Easily accesssible to teenagers and adults with at least a middle school education\n",
    "                - Technical: Technically written, accessible to those with any college degree\n",
    "\n",
    "                Exhibit Info:\n",
    "                - Exhibit Group: {group}\n",
    "                - Exhibit Title: {title}\n",
    "                - Exhibit Body: {body}\n",
    "                \"\"\"),\n",
    "            },\n",
    "        ],\n",
    "        max_tokens=6,\n",
    "        stream=False\n",
    "    )\n",
    "    response = completion.choices[0].message.content\n",
    "    print(response)\n",
    "    standard = \"standard\" in response.lower()\n",
    "    simplified = \"simplified\" in response.lower()\n",
    "    technical = \"technical\" in response.lower()\n",
    "    \n",
    "    if sum([standard, simplified, technical]) >= 2:\n",
    "        return \"Many\"\n",
    "    if standard:\n",
    "        return \"Standard\"\n",
    "    elif simplified:\n",
    "        return \"Simplified\"\n",
    "    elif technical:\n",
    "        return \"Technical\"\n",
    "    else:\n",
    "        return \"Unknown\""
   ]
  },
  {
   "cell_type": "code",
   "execution_count": null,
   "metadata": {},
   "outputs": [],
   "source": [
    "# classify the exhibit copy\n",
    "df['Complexity'] = df.apply(lambda x: classify_exhibit_copy(\n",
    "    x['Exhibit_Group'], x['Exhibit_Name'], x['Exhibit_Copy']), axis=1)"
   ]
  },
  {
   "cell_type": "code",
   "execution_count": null,
   "metadata": {},
   "outputs": [],
   "source": [
    "# print the distributions of the complexities\n",
    "# graph value counts of complexities by Exhibit_Group\n",
    "df.groupby('Exhibit_Group')['Complexity'].value_counts().unstack().plot(kind='bar', stacked=True)"
   ]
  },
  {
   "cell_type": "code",
   "execution_count": null,
   "metadata": {},
   "outputs": [],
   "source": [
    "# print all the {complexity} exhibit copies\n",
    "complexity = \"Standard\"\n",
    "for index, row in df[df['Complexity'] == complexity].iterrows():\n",
    "    print(row['Exhibit_Name'])\n",
    "    print()\n",
    "    # print the exhibit copy\n",
    "    print(row['Exhibit_Copy'])\n",
    "    print(\"\\n\\n\")"
   ]
  },
  {
   "cell_type": "code",
   "execution_count": null,
   "metadata": {},
   "outputs": [],
   "source": [
    "def understand_exhibit_classification(groups, titles, bodies):\n",
    "    template = \"\"\"Exhibit Info:\n",
    "    - Exhibit Group: {group}\n",
    "    - Exhibit Title: {title}\n",
    "    - Exhibit Body: {body}\n",
    "    \"\"\"\n",
    "\n",
    "    passages = \",\\n\".join([template.format(group=x, title=y, body=z) for x, y, z in zip(groups, titles, bodies)])\n",
    "\n",
    "    completion = client.chat.completions.create(\n",
    "        model=\"meta/llama-3.1-70b-instruct\",\n",
    "        messages=[\n",
    "            { \"role\": \"system\", \"content\": \"You are a helpful and informative AI assistant, tasked with explaining the classification of exhibit information into categories. You are capable of understanding complex questions. You respond thoroughly and with examples.\" },\n",
    "            {\n",
    "                \"role\": \"user\",\n",
    "                \"content\": f\"\"\"Explain the common themes behind the exhibit passages associated with one of the categories: Simplified, Standard, Technical:\n",
    "                \n",
    "                {passages}\n",
    "                \"\"\",\n",
    "            },\n",
    "        ],\n",
    "        max_tokens=2000,\n",
    "        stream=False\n",
    "    )\n",
    "    response = completion.choices[0].message.content \n",
    "    return response"
   ]
  },
  {
   "cell_type": "code",
   "execution_count": null,
   "metadata": {},
   "outputs": [],
   "source": [
    "# response = understand_exhibit_classification(df[\"Exhibit_Group\"], df[\"Exhibit_Name\"], df[\"Exhibit_Copy\"])\n",
    "exhibit_classification_explanation = \"\"\"The common themes behind the exhibit passages associated with each of the categories: Simplified, Standard, Technical.\n",
    "\n",
    "**Simplified (8 exhibits)**\n",
    "\n",
    "The exhibits in this category appear to be designed for a general audience, with simple language and concepts that are easy to understand. They aim to introduce basic ideas and spark curiosity about various topics, such as trains, robots, dinosaurs, and sound. The themes behind these exhibits are:\n",
    "\n",
    "* Explaining everyday phenomena in simple terms (e.g., how trains stay on tracks, how theremins work)\n",
    "* Introducing basic concepts related to science and technology (e.g., Newton's laws, compressed air)\n",
    "* Showcasing fascinating facts and trivia (e.g., about Les Paul, Morse Code)\n",
    "* Creating an engaging and interactive experience (e.g., with hands-on activities like the Pneumatic Dinosaur)\n",
    "\n",
    "**Standard (12 exhibits)**\n",
    "\n",
    "Exhibits in this category present more detailed information about various topics, often including explanations of scientific principles and technologies. They cater to a slightly more informed audience, although they still maintain a relatively accessible tone. The themes behind these exhibits are:\n",
    "* Delving into the history and evolution of technology (e.g., the development of railways, the invention of the telegraph)\n",
    "* Explaining complex scientific concepts in a relatively straightforward way (e.g., how electricity works, the principles of aerodynamics)\n",
    "* Highlighting the impact of technology on society (e.g., the role of automation in industry, the importance of energy efficiency)\n",
    "* Showcasing innovative solutions and products (e.g., robots, excavators)\n",
    "\n",
    "**Technical (10 exhibits)**\n",
    "\n",
    "Exhibits in this category are designed for a more specialized audience, with a deeper understanding of scientific and technical concepts. They often include technical jargon, complex explanations, and specific examples from various fields. The themes behind these exhibits are:\n",
    "\n",
    "* Providing detailed explanations of technical concepts and systems (e.g., hydraulic power, electromagnetism)\n",
    "* Exploring the applications and implications of advanced technologies (e.g., automation, robotics)\n",
    "* Highlighting the scientific principles underlying various phenomena (e.g., the behavior of fluids, the mechanics of helicopters)\n",
    "* Showcasing cutting-edge research and innovations (e.g., in the fields of energy, transportation, and computing)\"\"\""
   ]
  },
  {
   "cell_type": "code",
   "execution_count": null,
   "metadata": {},
   "outputs": [],
   "source": [
    "def complexity_prompt(prior_response, group, title, text, current_complexity, new_complexity):\n",
    "    completion = client.chat.completions.create(\n",
    "        model=\"meta/llama-3.1-70b-instruct\",\n",
    "        messages=[\n",
    "            { \"role\": \"system\", \"content\": \"You are a helpful and informative AI assistant, tasked with changing the complexity of exhibit information. You are capable of understanding complex questions. You respond with the exhibit copy with the new complexity.\" },\n",
    "            {\n",
    "                \"role\": \"user\",\n",
    "                \"content\": \"\"\"Explain the common themes behind the exhibit passages associated with one of the categories: Simplified, Standard, Technical\"\"\"\n",
    "            },\n",
    "            {\n",
    "                \"role\": \"assistant\",\n",
    "                \"content\": prior_response,\n",
    "            },\n",
    "            {\n",
    "                \"role\": \"user\",\n",
    "                \"content\": f\"\"\"Exhibit Info:\n",
    "                - Group: {group}\n",
    "                - Title: {title}\n",
    "                - Current Complexity: {current_complexity}\n",
    "                Change the complexity of the exhibit to {new_complexity}. Respond ONLY with the translated text:\n",
    "                Text to Simplify:\n",
    "                ```\n",
    "                {text}\n",
    "                ```\n",
    "                \"\"\",\n",
    "            },\n",
    "        ],\n",
    "        max_tokens=1000,\n",
    "        stream=False\n",
    "    )\n",
    "    return completion\n",
    "\n",
    "def change_complexity(prior_response, group, title, text, current_complexity, new_complexity):\n",
    "    for x in range(3):\n",
    "        response = complexity_prompt(prior_response, group, title, text, current_complexity, new_complexity).choices[0].message.content\n",
    "        wrong_words = [f\"{new_complexity}\", \"translated text\", \"complexity level\"]\n",
    "        # check if the response contains the key words, if so, try again\n",
    "        if any([word in response.lower() for word in wrong_words]):\n",
    "            if x == 2:\n",
    "                response = \"IGNORE: \" + response\n",
    "            \n",
    "    # remote any \"```\" from the response\n",
    "    response = response.replace(\"```\", \"\")\n",
    "    return response"
   ]
  },
  {
   "cell_type": "code",
   "execution_count": null,
   "metadata": {},
   "outputs": [],
   "source": [
    "def insert_markdown(text):\n",
    "    completion = client.chat.completions.create(\n",
    "        model=\"meta/llama-3.1-70b-instruct\",\n",
    "        messages=[\n",
    "            { \"role\": \"system\", \"content\": \"You are a helpful and informative AI assistant, tasked with recovering the formatting that text has lost. You are capable of understanding complex questions. You respond with an exact copy of the text in markdown.\" },\n",
    "            {\n",
    "                \"role\": \"user\",\n",
    "                \"content\": f\"\"\"Recover the formatting of the following text:\n",
    "                {text}\n",
    "                \"\"\",\n",
    "            },\n",
    "        ],\n",
    "        max_tokens=1000,\n",
    "        stream=False\n",
    "    )\n",
    "    response = completion.choices[0].message.content\n",
    "    return response"
   ]
  },
  {
   "cell_type": "code",
   "execution_count": null,
   "metadata": {},
   "outputs": [],
   "source": [
    "# test 5 Standard complexity exhibit copies translated to Simplified\n",
    "for index, row in df[df['Complexity'] == \"Standard\"].head().iterrows(): \n",
    "    print(row['Exhibit_Name'])\n",
    "    print()\n",
    "    # print the exhibit copy\n",
    "    print(row['Exhibit_Copy'])\n",
    "    print(\"\\n\")\n",
    "    response = change_complexity(\n",
    "        prior_response = exhibit_classification_explanation,\n",
    "        group = row['Exhibit_Group'],\n",
    "        title = row['Exhibit_Name'],\n",
    "        text = insert_markdown(row['Exhibit_Copy']),\n",
    "        current_complexity = row['Complexity'],\n",
    "        new_complexity = \"Simplified\")\n",
    "    print(\"```\")\n",
    "    print(response)\n",
    "    print(\"```\")\n",
    "    print(\"\\n\\n\")"
   ]
  },
  {
   "cell_type": "code",
   "execution_count": null,
   "metadata": {},
   "outputs": [],
   "source": [
    "# create Standard copy for all Technical copies\n",
    "new_rows = []\n",
    "for index, row in df[df[\"Complexity\"] == \"Technical\"].iterrows():\n",
    "    new_row = row.copy()\n",
    "    new_row[\"Complexity\"] = \"Standard\"\n",
    "    \n",
    "    new_row[\"Exhibit_Copy\"] = change_complexity(\n",
    "        prior_response = exhibit_classification_explanation,\n",
    "        group = row['Exhibit_Group'],\n",
    "        title = row['Exhibit_Name'],\n",
    "        text = insert_markdown(row['Exhibit_Copy']),\n",
    "        current_complexity = row['Complexity'],\n",
    "        new_complexity = \"Simplified\"\n",
    "    )\n",
    "    new_rows.append(new_row)\n",
    "\n",
    "# create Simplified copy for all Standard copies\n",
    "for index, row in df[df[\"Complexity\"] == \"Standard\"].iterrows():\n",
    "    new_row = row.copy()\n",
    "    new_row[\"Complexity\"] = \"Simplified\"\n",
    "    \n",
    "    new_row[\"Exhibit_Copy\"] = change_complexity(\n",
    "        prior_response = exhibit_classification_explanation,\n",
    "        group = row['Exhibit_Group'],\n",
    "        title = row['Exhibit_Name'],\n",
    "        text = insert_markdown(row['Exhibit_Copy']),\n",
    "        current_complexity = row['Complexity'],\n",
    "        new_complexity = \"Simplified\"\n",
    "    )\n",
    "    new_rows.append(new_row)"
   ]
  },
  {
   "cell_type": "code",
   "execution_count": null,
   "metadata": {},
   "outputs": [],
   "source": [
    "formatted_df = df[\"Exhibit_Copy\"].apply(lambda x: insert_markdown(x))"
   ]
  },
  {
   "cell_type": "code",
   "execution_count": null,
   "metadata": {},
   "outputs": [],
   "source": [
    "new_copies = pd.DataFrame(new_rows, columns=df.columns)\n",
    "df = pd.concat([df, new_copies], axis=0)"
   ]
  },
  {
   "cell_type": "code",
   "execution_count": null,
   "metadata": {},
   "outputs": [],
   "source": [
    "# order by index\n",
    "df = df.sort_index()"
   ]
  },
  {
   "cell_type": "code",
   "execution_count": null,
   "metadata": {},
   "outputs": [],
   "source": [
    "# show all the copies with tag \"Simplified\"\n",
    "complexity = \"Simplified\"\n",
    "for index, row in df[df['Complexity'] == complexity].iterrows():\n",
    "    print(row['Exhibit_Name'])\n",
    "    print()\n",
    "    # print the exhibit copy\n",
    "    print(row['Exhibit_Copy'])\n",
    "    print(\"\\n\\n\")"
   ]
  },
  {
   "cell_type": "code",
   "execution_count": null,
   "metadata": {},
   "outputs": [],
   "source": [
    "df.to_csv(\"DW-SheetCopies-Complexity.csv\", index=True)"
   ]
  },
  {
   "cell_type": "markdown",
   "metadata": {},
   "source": [
    "### Translation"
   ]
  },
  {
   "cell_type": "code",
   "execution_count": 2,
   "metadata": {},
   "outputs": [],
   "source": [
    "def translate_text(lst, target_language):\n",
    "    \"\"\"\n",
    "    Translates text into the target language using Google Cloud Translation API.\n",
    "\n",
    "    Args:\n",
    "        text (str): The text to translate.\n",
    "        target_language (str): The BCP-47 language code of the target language (e.g., 'es' for Spanish).\n",
    "\n",
    "    Returns:\n",
    "        str: The translated text.\n",
    "    \"\"\"\n",
    "    client = translate.TranslationServiceClient()\n",
    "    project_id = 'discoveryworldhackathon'  # Replace with your actual project ID\n",
    "    parent = f\"projects/{project_id}/locations/global\"\n",
    "\n",
    "    try:\n",
    "        response = client.translate_text(\n",
    "            request={\n",
    "                \"parent\": parent,\n",
    "                \"contents\": lst,\n",
    "                \"mime_type\": \"text/plain\",  # Use \"text/html\" for HTML content\n",
    "                \"target_language_code\": target_language,\n",
    "            }\n",
    "        )\n",
    "\n",
    "        # The API returns a list of translations; we're translating one text, so we get the first item.\n",
    "        return response.translations\n",
    "\n",
    "    except Exception as e:\n",
    "        print(f\"An error occurred during translation: {e}\")\n",
    "        return None\n"
   ]
  },
  {
   "cell_type": "code",
   "execution_count": 3,
   "metadata": {},
   "outputs": [
    {
     "data": {
      "text/html": [
       "<div>\n",
       "<style scoped>\n",
       "    .dataframe tbody tr th:only-of-type {\n",
       "        vertical-align: middle;\n",
       "    }\n",
       "\n",
       "    .dataframe tbody tr th {\n",
       "        vertical-align: top;\n",
       "    }\n",
       "\n",
       "    .dataframe thead th {\n",
       "        text-align: right;\n",
       "    }\n",
       "</style>\n",
       "<table border=\"1\" class=\"dataframe\">\n",
       "  <thead>\n",
       "    <tr style=\"text-align: right;\">\n",
       "      <th></th>\n",
       "      <th>Id</th>\n",
       "      <th>Exhibit_Group</th>\n",
       "      <th>Exhibit_Name</th>\n",
       "      <th>Exhibit_Popularity</th>\n",
       "      <th>Exhibit_Copy</th>\n",
       "      <th>Language</th>\n",
       "      <th>Complexity</th>\n",
       "    </tr>\n",
       "  </thead>\n",
       "  <tbody>\n",
       "    <tr>\n",
       "      <th>0</th>\n",
       "      <td>0</td>\n",
       "      <td>All-Aboard</td>\n",
       "      <td>All-Aboard</td>\n",
       "      <td>1</td>\n",
       "      <td># All Aboard!\\nTrains and railways have been a...</td>\n",
       "      <td>English</td>\n",
       "      <td>Simplified</td>\n",
       "    </tr>\n",
       "    <tr>\n",
       "      <th>1</th>\n",
       "      <td>5</td>\n",
       "      <td>Automation Everywhere</td>\n",
       "      <td>Connect Four</td>\n",
       "      <td>3</td>\n",
       "      <td>**Meet Gary the Robot**\\nGary is a special rob...</td>\n",
       "      <td>English</td>\n",
       "      <td>Simplified</td>\n",
       "    </tr>\n",
       "    <tr>\n",
       "      <th>2</th>\n",
       "      <td>5</td>\n",
       "      <td>Automation Everywhere</td>\n",
       "      <td>Connect Four</td>\n",
       "      <td>3</td>\n",
       "      <td>**Fanuc Robot-M-11a**\\n\\nGary is a sorting rob...</td>\n",
       "      <td>English</td>\n",
       "      <td>Standard</td>\n",
       "    </tr>\n",
       "    <tr>\n",
       "      <th>3</th>\n",
       "      <td>6</td>\n",
       "      <td>Automation Everywhere</td>\n",
       "      <td>Dream Machine</td>\n",
       "      <td>1</td>\n",
       "      <td>### Sensor\\n\\n#### 1. Tiny Light Sensors\\nThes...</td>\n",
       "      <td>English</td>\n",
       "      <td>Standard</td>\n",
       "    </tr>\n",
       "    <tr>\n",
       "      <th>4</th>\n",
       "      <td>6</td>\n",
       "      <td>Automation Everywhere</td>\n",
       "      <td>Dream Machine</td>\n",
       "      <td>1</td>\n",
       "      <td>### Sensor\\n\\n#### 1. 42KD Miniature Photoelec...</td>\n",
       "      <td>English</td>\n",
       "      <td>Technical</td>\n",
       "    </tr>\n",
       "  </tbody>\n",
       "</table>\n",
       "</div>"
      ],
      "text/plain": [
       "   Id          Exhibit_Group   Exhibit_Name  Exhibit_Popularity  \\\n",
       "0   0             All-Aboard     All-Aboard                   1   \n",
       "1   5  Automation Everywhere   Connect Four                   3   \n",
       "2   5  Automation Everywhere   Connect Four                   3   \n",
       "3   6  Automation Everywhere  Dream Machine                   1   \n",
       "4   6  Automation Everywhere  Dream Machine                   1   \n",
       "\n",
       "                                        Exhibit_Copy Language  Complexity  \n",
       "0  # All Aboard!\\nTrains and railways have been a...  English  Simplified  \n",
       "1  **Meet Gary the Robot**\\nGary is a special rob...  English  Simplified  \n",
       "2  **Fanuc Robot-M-11a**\\n\\nGary is a sorting rob...  English    Standard  \n",
       "3  ### Sensor\\n\\n#### 1. Tiny Light Sensors\\nThes...  English    Standard  \n",
       "4  ### Sensor\\n\\n#### 1. 42KD Miniature Photoelec...  English   Technical  "
      ]
     },
     "execution_count": 3,
     "metadata": {},
     "output_type": "execute_result"
    }
   ],
   "source": [
    "df = pd.read_csv(\"DW-SheetCopies-Complexity.csv\")\n",
    "columns = df.columns\n",
    "df = df.rename(columns={df.columns[0]: \"Id\"})\n",
    "df.head()"
   ]
  },
  {
   "cell_type": "code",
   "execution_count": 4,
   "metadata": {},
   "outputs": [],
   "source": [
    "# translate one of the exhibit copies to Spanish\n",
    "# translate one of the exhibit copies to Spanish\n",
    "spanish_lst = df['Exhibit_Copy'].tolist()\n",
    "hmong_lst = df['Exhibit_Copy'].tolist()\n",
    "\n",
    "# Ensure the list splits are correct\n",
    "mid_index = len(df['Exhibit_Copy']) // 2\n",
    "\n",
    "spanish_lst_1 = spanish_lst[:mid_index]\n",
    "spanish_lst_2 = spanish_lst[mid_index:]\n",
    "hmong_lst_1 = hmong_lst[:mid_index]\n",
    "hmong_lst_2 = hmong_lst[mid_index:]"
   ]
  },
  {
   "cell_type": "code",
   "execution_count": 9,
   "metadata": {},
   "outputs": [],
   "source": [
    "def translate_2pt_series(lst_1, lst_2, target_language):\n",
    "    lst_1 = translate_text(lst_1, target_language)\n",
    "    lst_2 = translate_text(lst_2, target_language)\n",
    "    lst_1 = [x.translated_text for x in lst_1]\n",
    "    lst_2 = [x.translated_text for x in lst_2]\n",
    "    translated_text = lst_1 + lst_2\n",
    "    return translated_text"
   ]
  },
  {
   "cell_type": "code",
   "execution_count": 10,
   "metadata": {},
   "outputs": [],
   "source": [
    "# test translation\n",
    "translated_text = translate_2pt_series([\"Hello World\"], [\"World Hello\"], \"es\")"
   ]
  },
  {
   "cell_type": "code",
   "execution_count": 11,
   "metadata": {},
   "outputs": [],
   "source": [
    "spanish_lst = translate_2pt_series(spanish_lst_1, spanish_lst_2, \"es\")\n",
    "spanish_df = df.drop(columns=['Exhibit_Copy']).copy()\n",
    "spanish_df['Exhibit_Copy'] = spanish_lst\n",
    "spanish_df['Language'] = \"Spanish\"\n",
    "\n",
    "hmong_lst = translate_2pt_series(hmong_lst_1, hmong_lst_2, \"hmn\")\n",
    "hmong_df = df.drop(columns=['Exhibit_Copy']).copy()\n",
    "hmong_df['Exhibit_Copy'] = hmong_lst\n",
    "hmong_df['Language'] = \"Hmong\""
   ]
  },
  {
   "cell_type": "code",
   "execution_count": 12,
   "metadata": {},
   "outputs": [],
   "source": [
    "df = pd.concat([df, spanish_df, hmong_df], axis=0)\n",
    "df = df.sort_index()\n",
    "# move the copy column to the end\n",
    "exhibit_copy = df.pop('Exhibit_Copy')\n",
    "df['Exhibit_Copy'] = exhibit_copy\n",
    "df.to_csv(\"DW-SheetCopies-Complexity-Translated.csv\", index=False)"
   ]
  },
  {
   "cell_type": "markdown",
   "metadata": {},
   "source": [
    "## Save Data"
   ]
  },
  {
   "cell_type": "code",
   "execution_count": 24,
   "metadata": {},
   "outputs": [],
   "source": [
    "import pandas as pd"
   ]
  },
  {
   "cell_type": "code",
   "execution_count": 25,
   "metadata": {},
   "outputs": [
    {
     "data": {
      "text/html": [
       "<div>\n",
       "<style scoped>\n",
       "    .dataframe tbody tr th:only-of-type {\n",
       "        vertical-align: middle;\n",
       "    }\n",
       "\n",
       "    .dataframe tbody tr th {\n",
       "        vertical-align: top;\n",
       "    }\n",
       "\n",
       "    .dataframe thead th {\n",
       "        text-align: right;\n",
       "    }\n",
       "</style>\n",
       "<table border=\"1\" class=\"dataframe\">\n",
       "  <thead>\n",
       "    <tr style=\"text-align: right;\">\n",
       "      <th></th>\n",
       "      <th>Id</th>\n",
       "      <th>Exhibit_Group</th>\n",
       "      <th>Exhibit_Name</th>\n",
       "      <th>Exhibit_Popularity</th>\n",
       "      <th>Language</th>\n",
       "      <th>Complexity</th>\n",
       "      <th>Exhibit_Copy</th>\n",
       "    </tr>\n",
       "  </thead>\n",
       "  <tbody>\n",
       "    <tr>\n",
       "      <th>0</th>\n",
       "      <td>0</td>\n",
       "      <td>All-Aboard</td>\n",
       "      <td>All-Aboard</td>\n",
       "      <td>1</td>\n",
       "      <td>English</td>\n",
       "      <td>Simplified</td>\n",
       "      <td># All Aboard!\\r\\nTrains and railways have been...</td>\n",
       "    </tr>\n",
       "    <tr>\n",
       "      <th>1</th>\n",
       "      <td>0</td>\n",
       "      <td>All-Aboard</td>\n",
       "      <td>All-Aboard</td>\n",
       "      <td>1</td>\n",
       "      <td>Spanish</td>\n",
       "      <td>Simplified</td>\n",
       "      <td># ¡Todos a bordo!\\r\\nLos trenes y los ferrocar...</td>\n",
       "    </tr>\n",
       "    <tr>\n",
       "      <th>2</th>\n",
       "      <td>0</td>\n",
       "      <td>All-Aboard</td>\n",
       "      <td>All-Aboard</td>\n",
       "      <td>1</td>\n",
       "      <td>Hmong</td>\n",
       "      <td>Simplified</td>\n",
       "      <td>#Txhua yam hauv qab!\\r\\nCov tsheb ciav hlau th...</td>\n",
       "    </tr>\n",
       "    <tr>\n",
       "      <th>3</th>\n",
       "      <td>5</td>\n",
       "      <td>Automation Everywhere</td>\n",
       "      <td>Connect Four</td>\n",
       "      <td>3</td>\n",
       "      <td>Spanish</td>\n",
       "      <td>Simplified</td>\n",
       "      <td>**Conoce a Gary, el robot**\\r\\nGary es un robo...</td>\n",
       "    </tr>\n",
       "    <tr>\n",
       "      <th>4</th>\n",
       "      <td>5</td>\n",
       "      <td>Automation Everywhere</td>\n",
       "      <td>Connect Four</td>\n",
       "      <td>3</td>\n",
       "      <td>Hmong</td>\n",
       "      <td>Simplified</td>\n",
       "      <td>** Ntsib Gary tus neeg hlau **\\r\\nGary yog tus...</td>\n",
       "    </tr>\n",
       "    <tr>\n",
       "      <th>5</th>\n",
       "      <td>5</td>\n",
       "      <td>Automation Everywhere</td>\n",
       "      <td>Connect Four</td>\n",
       "      <td>3</td>\n",
       "      <td>English</td>\n",
       "      <td>Simplified</td>\n",
       "      <td>**Meet Gary the Robot**\\r\\nGary is a special r...</td>\n",
       "    </tr>\n",
       "    <tr>\n",
       "      <th>6</th>\n",
       "      <td>5</td>\n",
       "      <td>Automation Everywhere</td>\n",
       "      <td>Connect Four</td>\n",
       "      <td>3</td>\n",
       "      <td>English</td>\n",
       "      <td>Standard</td>\n",
       "      <td>**Fanuc Robot-M-11a**\\r\\n\\r\\nGary is a sorting...</td>\n",
       "    </tr>\n",
       "    <tr>\n",
       "      <th>7</th>\n",
       "      <td>5</td>\n",
       "      <td>Automation Everywhere</td>\n",
       "      <td>Connect Four</td>\n",
       "      <td>3</td>\n",
       "      <td>Spanish</td>\n",
       "      <td>Standard</td>\n",
       "      <td>**Robot Fanuc M-11a**\\r\\n\\r\\nGary es un robot ...</td>\n",
       "    </tr>\n",
       "    <tr>\n",
       "      <th>8</th>\n",
       "      <td>5</td>\n",
       "      <td>Automation Everywhere</td>\n",
       "      <td>Connect Four</td>\n",
       "      <td>3</td>\n",
       "      <td>Hmong</td>\n",
       "      <td>Standard</td>\n",
       "      <td>**Fanuc Neeg Hlau-M-11a**\\r\\n\\r\\nGary yog ib t...</td>\n",
       "    </tr>\n",
       "  </tbody>\n",
       "</table>\n",
       "</div>"
      ],
      "text/plain": [
       "   Id          Exhibit_Group  Exhibit_Name  Exhibit_Popularity Language  \\\n",
       "0   0             All-Aboard    All-Aboard                   1  English   \n",
       "1   0             All-Aboard    All-Aboard                   1  Spanish   \n",
       "2   0             All-Aboard    All-Aboard                   1    Hmong   \n",
       "3   5  Automation Everywhere  Connect Four                   3  Spanish   \n",
       "4   5  Automation Everywhere  Connect Four                   3    Hmong   \n",
       "5   5  Automation Everywhere  Connect Four                   3  English   \n",
       "6   5  Automation Everywhere  Connect Four                   3  English   \n",
       "7   5  Automation Everywhere  Connect Four                   3  Spanish   \n",
       "8   5  Automation Everywhere  Connect Four                   3    Hmong   \n",
       "\n",
       "   Complexity                                       Exhibit_Copy  \n",
       "0  Simplified  # All Aboard!\\r\\nTrains and railways have been...  \n",
       "1  Simplified  # ¡Todos a bordo!\\r\\nLos trenes y los ferrocar...  \n",
       "2  Simplified  #Txhua yam hauv qab!\\r\\nCov tsheb ciav hlau th...  \n",
       "3  Simplified  **Conoce a Gary, el robot**\\r\\nGary es un robo...  \n",
       "4  Simplified  ** Ntsib Gary tus neeg hlau **\\r\\nGary yog tus...  \n",
       "5  Simplified  **Meet Gary the Robot**\\r\\nGary is a special r...  \n",
       "6    Standard  **Fanuc Robot-M-11a**\\r\\n\\r\\nGary is a sorting...  \n",
       "7    Standard  **Robot Fanuc M-11a**\\r\\n\\r\\nGary es un robot ...  \n",
       "8    Standard  **Fanuc Neeg Hlau-M-11a**\\r\\n\\r\\nGary yog ib t...  "
      ]
     },
     "execution_count": 25,
     "metadata": {},
     "output_type": "execute_result"
    }
   ],
   "source": [
    "df = pd.read_csv(\"DW-SheetCopies-Complexity-Translated.csv\")\n",
    "df.head(9)"
   ]
  },
  {
   "cell_type": "code",
   "execution_count": 26,
   "metadata": {},
   "outputs": [],
   "source": [
    "# import pandas as pd\n",
    "# import json\n",
    "\n",
    "# # Map complexities to difficulty levels\n",
    "# complexity_to_level = {\n",
    "#     'Simplified': '1',\n",
    "#     'Standard': '2',\n",
    "#     'Technical': '3'\n",
    "# }\n",
    "\n",
    "# # Map languages to language codes\n",
    "# language_to_code = {\n",
    "#     'English': 'en',\n",
    "#     'Spanish': 'es',\n",
    "#     'Hmong': 'Hmong'  # Using 'Hmong' as the code based on your JSON schema\n",
    "# }\n",
    "\n",
    "# # Initialize the list to hold exhibits\n",
    "# exhibits_list = []\n",
    "\n",
    "# # Group the data by 'Id' and 'Exhibit_Name'\n",
    "# grouped = df.groupby(['Id', 'Exhibit_Name'])\n",
    "\n",
    "# for (exhibit_id, exhibit_name), group in grouped:\n",
    "#     # Prepare the exhibit dictionary\n",
    "#     exhibit_dict = {\n",
    "#         \"id\": f\"exhibit{exhibit_id}\",\n",
    "#         \"image\": \"assets/images/flutter_logo.png\",  # Update with actual image paths if available\n",
    "#         \"article\": {\n",
    "#             \"id\": f\"exhibit{exhibit_id}\",\n",
    "#             \"titles\": {},\n",
    "#             \"descriptions\": {}\n",
    "#         },\n",
    "#         \"languageCode\": \"\",       # We'll set this later\n",
    "#         \"difficultyLevel\": \"\"     # We'll set this later\n",
    "#     }\n",
    "    \n",
    "#     # Iterate over each row in the group to populate 'titles' and 'descriptions'\n",
    "#     for _, row in group.iterrows():\n",
    "#         language = row['Language']\n",
    "#         complexity = row['Complexity']\n",
    "#         exhibit_copy = row['Exhibit_Copy']\n",
    "        \n",
    "#         # Get language code and difficulty level\n",
    "#         language_code = language_to_code.get(language, language)\n",
    "#         difficulty_level = complexity_to_level.get(complexity, complexity)\n",
    "        \n",
    "#         # Create key for titles and descriptions\n",
    "#         key = f\"{language_code}{difficulty_level}\"\n",
    "        \n",
    "#         # Use 'Exhibit_Name' as the title (assuming it's the display name)\n",
    "#         exhibit_dict['article']['titles'][key] = exhibit_name\n",
    "        \n",
    "#         # 'Exhibit_Copy' is used as the description\n",
    "#         exhibit_dict['article']['descriptions'][key] = exhibit_copy\n",
    "        \n",
    "#         # Optionally, set 'languageCode' and 'difficultyLevel' for the exhibit\n",
    "#         # Here we set them to the last processed values (you can adjust this as needed)\n",
    "#         exhibit_dict['languageCode'] = language_code\n",
    "#         exhibit_dict['difficultyLevel'] = difficulty_level\n",
    "        \n",
    "#     # Append the exhibit to the list\n",
    "#     exhibits_list.append(exhibit_dict)\n",
    "\n",
    "# # Prepare the final JSON structure\n",
    "# output_json = {\n",
    "#     \"exhibits\": exhibits_list\n",
    "# }\n",
    "\n",
    "# # Convert the output dictionary to a JSON string with indentation\n",
    "# json_output = json.dumps(output_json, indent=4, ensure_ascii=False)\n",
    "\n",
    "# # Optionally, write the JSON output to a file\n",
    "# with open('output.json', 'w', encoding='utf-8') as f:\n",
    "#     f.write(json_output)\n",
    "\n",
    "# # Print the JSON output\n",
    "# print(json_output)\n"
   ]
  },
  {
   "cell_type": "code",
   "execution_count": 27,
   "metadata": {},
   "outputs": [],
   "source": [
    "spanish_df = df[df['Language'] == \"Spanish\"]\n",
    "english_df = df[df['Language'] == \"English\"]\n",
    "hmong_df = df[df['Language'] == \"Hmong\"]"
   ]
  },
  {
   "cell_type": "code",
   "execution_count": 28,
   "metadata": {},
   "outputs": [
    {
     "data": {
      "text/plain": [
       "(50, 50, 50)"
      ]
     },
     "execution_count": 28,
     "metadata": {},
     "output_type": "execute_result"
    }
   ],
   "source": [
    "len(spanish_df), len(english_df), len(hmong_df)"
   ]
  },
  {
   "cell_type": "code",
   "execution_count": 32,
   "metadata": {},
   "outputs": [
    {
     "name": "stdout",
     "output_type": "stream",
     "text": [
      "   Id Exhibit_Group_en Exhibit_Name_en  Exhibit_Popularity_en Language_en  \\\n",
      "0   0       All-Aboard      All-Aboard                      1     English   \n",
      "\n",
      "  Complexity_en                                    Exhibit_Copy_en  \\\n",
      "0    Simplified  # All Aboard!\\r\\nTrains and railways have been...   \n",
      "\n",
      "  Exhibit_Group_es Exhibit_Name_es  Exhibit_Popularity_es Language_es  \\\n",
      "0       All-Aboard      All-Aboard                      1     Spanish   \n",
      "\n",
      "  Complexity_es                                    Exhibit_Copy_es  \n",
      "0    Simplified  # ¡Todos a bordo!\\r\\nLos trenes y los ferrocar...  \n"
     ]
    }
   ],
   "source": [
    "# join english_df and spanish_df on the Id column\n",
    "df = pd.merge(english_df, spanish_df, on='Id', suffixes=('_en', '_es'))\n",
    "print(df.head(1))"
   ]
  },
  {
   "cell_type": "code",
   "execution_count": 33,
   "metadata": {},
   "outputs": [],
   "source": [
    "# Initialize an empty string to hold the HTML content\n",
    "html_content = ''\n",
    "\n",
    "for index, row in df.iterrows():\n",
    "    # Extract the necessary information\n",
    "    title_en = row['Exhibit_Name_en']\n",
    "    complexity = row['Complexity_en']\n",
    "    copy_en = row['Exhibit_Copy_en']\n",
    "    copy_es = row['Exhibit_Copy_es']\n",
    "    \n",
    "    # Convert Markdown to HTML (optional)\n",
    "    import markdown\n",
    "    copy_en_html = markdown.markdown(copy_en)\n",
    "    copy_es_html = markdown.markdown(copy_es)\n",
    "    \n",
    "    # Generate the HTML for this exhibit\n",
    "    exhibit_html = f'''\n",
    "    <h1>{title_en}</h1>\n",
    "    <h2>Complexity: {complexity}</h2>\n",
    "    <hr>\n",
    "    <table border=\"1\" style=\"width:100%; border-collapse: collapse;\">\n",
    "        <tr>\n",
    "            <th style=\"width:50%;\">English Column</th>\n",
    "            <th style=\"width:50%;\">Spanish Column</th>\n",
    "        </tr>\n",
    "        <tr>\n",
    "            <td style=\"vertical-align: top;\">{copy_en_html}</td>\n",
    "            <td style=\"vertical-align: top;\">{copy_es_html}</td>\n",
    "        </tr>\n",
    "    </table>\n",
    "    <hr>\n",
    "    '''\n",
    "    # Append to the main HTML content\n",
    "    html_content += exhibit_html"
   ]
  },
  {
   "cell_type": "code",
   "execution_count": 34,
   "metadata": {},
   "outputs": [
    {
     "name": "stdout",
     "output_type": "stream",
     "text": [
      "HTML file has been created successfully!\n"
     ]
    }
   ],
   "source": [
    "# Wrap the content in HTML tags\n",
    "full_html = f'''\n",
    "<!DOCTYPE html>\n",
    "<html lang=\"en\">\n",
    "<head>\n",
    "    <meta charset=\"UTF-8\">\n",
    "    <title>Exhibits</title>\n",
    "    <style>\n",
    "        body {{\n",
    "            font-family: Arial, sans-serif;\n",
    "            margin: 20px;\n",
    "        }}\n",
    "        h1 {{\n",
    "            color: #2e6c80;\n",
    "        }}\n",
    "        table {{\n",
    "            width: 100%;\n",
    "            border-collapse: collapse;\n",
    "        }}\n",
    "        th, td {{\n",
    "            border: 1px solid #dddddd;\n",
    "            padding: 10px;\n",
    "        }}\n",
    "        th {{\n",
    "            background-color: #f2f2f2;\n",
    "        }}\n",
    "    </style>\n",
    "</head>\n",
    "<body>\n",
    "    {html_content}\n",
    "</body>\n",
    "</html>\n",
    "'''\n",
    "\n",
    "# Write the HTML content to a file\n",
    "with open('exhibits.html', 'w', encoding='utf-8') as file:\n",
    "    file.write(full_html)\n",
    "\n",
    "print(\"HTML file has been created successfully!\")"
   ]
  }
 ],
 "metadata": {
  "kernelspec": {
   "display_name": "env",
   "language": "python",
   "name": "python3"
  },
  "language_info": {
   "codemirror_mode": {
    "name": "ipython",
    "version": 3
   },
   "file_extension": ".py",
   "mimetype": "text/x-python",
   "name": "python",
   "nbconvert_exporter": "python",
   "pygments_lexer": "ipython3",
   "version": "3.11.9"
  }
 },
 "nbformat": 4,
 "nbformat_minor": 2
}
